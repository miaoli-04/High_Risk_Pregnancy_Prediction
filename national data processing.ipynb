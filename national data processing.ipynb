{
 "cells": [
  {
   "cell_type": "code",
   "execution_count": null,
   "id": "c71f2dc2",
   "metadata": {},
   "outputs": [],
   "source": [
    "import csv\n",
    "import numpy as np\n",
    "import pandas as pd\n",
    "import matplotlib.pyplot as plt\n",
    "import seaborn as sns"
   ]
  },
  {
   "cell_type": "code",
   "execution_count": null,
   "id": "8baffe43",
   "metadata": {},
   "outputs": [],
   "source": [
    "with open('./Nat2021US.txt', 'r') as f:\n",
    "    stripped = (line.strip() for line in f)\n",
    "    with open('national_data.csv', 'w') as out_file:\n",
    "        writer = csv.writer(out_file)\n",
    "        writer.writerows(stripped)"
   ]
  },
  {
   "cell_type": "code",
   "execution_count": null,
   "id": "4306e4c7",
   "metadata": {},
   "outputs": [],
   "source": [
    "with open('national_data.csv', newline='') as f:\n",
    "    reader = csv.reader(f)\n",
    "    data = list(reader)"
   ]
  },
  {
   "cell_type": "code",
   "execution_count": null,
   "id": "30a5781e",
   "metadata": {},
   "outputs": [],
   "source": [
    "def recode_pos(num):\n",
    "    return num - 9"
   ]
  },
  {
   "cell_type": "code",
   "execution_count": null,
   "id": "7de9bc03",
   "metadata": {},
   "outputs": [],
   "source": [
    "df_dict = {}\n",
    "for i, info in enumerate(data):\n",
    "    if i % 100 == 5:\n",
    "        df_dict.setdefault('birth_place',[]).append(info[recode_pos(32)])\n",
    "        df_dict.setdefault('mother_age',[]).append(int(''.join(info[recode_pos(75):recode_pos(76)+1])))\n",
    "        df_dict.setdefault('mother_race',[]).append(info[recode_pos(107)])\n",
    "        df_dict.setdefault('marital_status',[]).append(info[recode_pos(120)])\n",
    "        df_dict.setdefault('mother_edu',[]).append(int(info[recode_pos(124)]))\n",
    "        df_dict.setdefault('father_edu',[]).append(int(info[recode_pos(163)]))\n",
    "        df_dict.setdefault('prev_kid',[]).append(int(''.join(info[recode_pos(171):recode_pos(172)+1])))\n",
    "        df_dict.setdefault('prev_terminate',[]).append(int(''.join(info[recode_pos(175):recode_pos(176)+1])))\n",
    "        df_dict.setdefault('spacing_live_birth',[]).append(int(''.join(info[recode_pos(198):recode_pos(200)+1])))\n",
    "        df_dict.setdefault('spacing_preg',[]).append(int(''.join(info[recode_pos(206):recode_pos(208)+1])))\n",
    "        df_dict.setdefault('prenatal_care_start',[]).append(int(''.join(info[recode_pos(224):recode_pos(225)+1])))\n",
    "        df_dict.setdefault('num_visit',[]).append(int(''.join(info[recode_pos(238):recode_pos(239)+1])))\n",
    "        df_dict.setdefault('WIC',[]).append(info[recode_pos(251)])\n",
    "        df_dict.setdefault('cig_before_preg',[]).append(int(info[recode_pos(261)]))\n",
    "        df_dict.setdefault('cig_t1',[]).append(int(info[recode_pos(262)]))\n",
    "        df_dict.setdefault('cig_t2',[]).append(int(info[recode_pos(263)]))\n",
    "        df_dict.setdefault('cig_t3',[]).append(int(info[recode_pos(264)]))\n",
    "        #risk factor\n",
    "        df_dict.setdefault('pre_diabetes',[]).append(info[recode_pos(313)])\n",
    "        df_dict.setdefault('gas_diabetes',[]).append(info[recode_pos(314)])\n",
    "        df_dict.setdefault('pre_hypertension',[]).append(info[recode_pos(315)])\n",
    "        df_dict.setdefault('gas_hypertension',[]).append(info[recode_pos(316)])\n",
    "        df_dict.setdefault('hyper_eclampsia',[]).append(info[recode_pos(317)])\n",
    "        df_dict.setdefault('prev_preterm',[]).append(info[recode_pos(318)])\n",
    "        df_dict.setdefault('prev_C',[]).append(info[recode_pos(331)])\n",
    "        df_dict.setdefault('no_infection',[]).append(info[recode_pos(353)])\n",
    "        \n",
    "        #coding infections\n",
    "        df_dict.setdefault('Gonorrhea',[]).append(info[recode_pos(343)])\n",
    "        df_dict.setdefault('Syphilis',[]).append(info[recode_pos(344)])\n",
    "        df_dict.setdefault('Chlamydia',[]).append(info[recode_pos(345)])\n",
    "        df_dict.setdefault('Hepatitis_B',[]).append(info[recode_pos(346)])\n",
    "        df_dict.setdefault('Hepatitis_C',[]).append(info[recode_pos(347)])\n",
    "\n",
    "        #outcome\n",
    "        df_dict.setdefault('weight_class',[]).append(int(info[recode_pos(511)]))\n",
    "        df_dict.setdefault('no_abnormal',[]).append(int(info[recode_pos(531)]))"
   ]
  },
  {
   "cell_type": "code",
   "execution_count": null,
   "id": "00662e7f",
   "metadata": {},
   "outputs": [],
   "source": [
    "with open(\"nat_clean.csv\", \"w\") as outfile:\n",
    "   \n",
    "   # pass the csv file to csv.writer.\n",
    "    writer = csv.writer(outfile)\n",
    "     \n",
    "    # convert the dictionary keys to a list\n",
    "    key_list = list(df_dict.keys())\n",
    "     \n",
    "    # find the length of the key_list\n",
    "    limit = len(df_dict['birth_place'])\n",
    "     \n",
    "    # the length of the keys corresponds to\n",
    "    # no. of. columns.\n",
    "    writer.writerow(df_dict.keys())\n",
    "     \n",
    "    # iterate each column and assign the\n",
    "    # corresponding values to the column\n",
    "    for i in range(limit):\n",
    "        writer.writerow([df_dict[x][i] for x in key_list])"
   ]
  },
  {
   "cell_type": "code",
   "execution_count": null,
   "id": "bdeb8aac",
   "metadata": {},
   "outputs": [],
   "source": [
    "df = pd.read_csv(\"nat_clean.csv\")"
   ]
  },
  {
   "cell_type": "code",
   "execution_count": null,
   "id": "785ff566",
   "metadata": {},
   "outputs": [],
   "source": [
    "df.columns"
   ]
  },
  {
   "cell_type": "code",
   "execution_count": null,
   "id": "f4325179",
   "metadata": {},
   "outputs": [],
   "source": [
    "def corr_heat_map(dataset, target_var, num_shown):\n",
    "    fig, axes = plt.subplots(1, 2, figsize=(12, 6))\n",
    "\n",
    "    #positive\n",
    "    df_corr = dataset.corr().sort_values(target_var, ascending=False)\n",
    "    top_corr_features = df_corr.index[:num_shown]\n",
    "    top_corr = dataset[top_corr_features].corr()\n",
    "    sns.heatmap(top_corr, annot=True, cmap=\"crest\", ax=axes[0])\n",
    "    axes[0].set_title('Most Positive Correlated Variables', fontsize=11)\n",
    "    #negative\n",
    "    df_corr = dataset.corr().sort_values(target_var, ascending=True)\n",
    "    top_corr_features = df_corr.index[:num_shown]\n",
    "    top_corr = dataset[top_corr_features].corr()\n",
    "    sns.heatmap(top_corr, annot=True, cmap=\"Reds\", ax=axes[1])\n",
    "    axes[1].set_title('Most Negative Correlated Variables', fontsize=11)"
   ]
  },
  {
   "cell_type": "code",
   "execution_count": null,
   "id": "cc74b489",
   "metadata": {},
   "outputs": [],
   "source": [
    "corr_heat_map(df, 'LBW', 10)"
   ]
  },
  {
   "cell_type": "markdown",
   "id": "317c942e",
   "metadata": {},
   "source": [
    "# Data Processing #"
   ]
  },
  {
   "cell_type": "code",
   "execution_count": null,
   "id": "8cc17494",
   "metadata": {},
   "outputs": [],
   "source": [
    "df.loc[df.loc[:,'birth_place'] == 9,'birth_place'] = np.nan\n",
    "\n",
    "df.loc[df.loc[:, 'mother_race'] == 2,'black'] = 1\n",
    "df.loc[df.loc[:, 'mother_race'] != 2,'black'] = 0\n",
    "df.loc[df.loc[:,'marital_status'] == ' ','marital_status'] = np.nan\n",
    "df.loc[df.loc[:,'marital_status'] != ' ','marital_status'] = df.loc[:,'marital_status'].astype(str)\n",
    "df.loc[df.loc[:,'mother_edu'] == 9,'mother_edu'] == np.nan\n",
    "df.loc[df.loc[:,'father_edu'] == 9,'father_edu'] == np.nan\n",
    "df.loc[:,'parent_edu'] = df.loc[:,'mother_edu'] + df.loc[:,'father_edu']\n",
    "df.loc[df.loc[:,'prev_kid'] == 99,'prev_kid'] = np.nan\n",
    "df.loc[df.loc[:,'prev_terminate'] == 99,'prev_terminate'] = np.nan\n",
    "df.loc[(df.loc[:,'spacing_live_birth'] == 999) | (df.loc[:,'spacing_live_birth'] == 888)\n",
    "       | (df.loc[:,'spacing_live_birth'] < 4),'spacing_live_birth'] = np.nan\n",
    "df.loc[(df.loc[:,'spacing_preg'] == 999) | (df.loc[:,'spacing_preg'] == 888)\n",
    "       | (df.loc[:,'spacing_preg'] < 4),'spacing_preg'] = np.nan\n",
    "df.loc[(df.loc[:,'prenatal_care_start'] == 99) | (df.loc[:,'prenatal_care_start'] ==0), 'prenatal_care_start'] = np.nan\n",
    "df.loc[(df.loc[:,'prenatal_care_start'] == 0),'had_prenatal_care'] = 0\n",
    "df.loc[(df.loc[:,'prenatal_care_start'] != 0) & (df.loc[:,'prenatal_care_start'] != 99) ,'had_prenatal_care'] = 1\n",
    "df.loc[df.loc[:,'num_visit'] == 99, 'num_visit'] = np.nan\n",
    "df.loc[df.loc[:,'cig_before_preg'] != 0, 'cig_before_preg'] = 1\n",
    "df.loc[df.loc[:,'cig_t1'] != 0, 'cig_t1'] = 1\n",
    "df.loc[df.loc[:,'cig_t2'] != 0, 'cig_t2'] = 1\n",
    "df.loc[df.loc[:,'cig_t3'] != 0, 'cig_t3'] = 1\n",
    "df.loc[df.loc[:,'no_infection'] == '9','no_infection'] = np.nan\n",
    "df.loc[df.loc[:,'no_infection'] != '9','no_infection'] = df.loc[:,'no_infection'].astype(int)\n",
    "df.loc[df.loc[:,'no_abnormal'] == 9,'no_abnormal'] = np.nan\n",
    "df.loc[df.loc[:,'weight_class'] == 4, 'weight_class'] = np.nan\n",
    "df.loc[df.loc[:,'weight_class'] < 3,'LBW'] = 1\n",
    "df.loc[df.loc[:,'weight_class'] ==  3,'LBW'] = 0\n",
    "df.loc[df.loc[:,'marital_status'] == '2','single_mom'] = 1\n",
    "df.loc[df.loc[:,'marital_status'] == '1','single_mom'] = 0"
   ]
  },
  {
   "cell_type": "code",
   "execution_count": null,
   "id": "d1355ecd",
   "metadata": {},
   "outputs": [],
   "source": [
    "def letter_trans(ans):\n",
    "    if ans == 'Y':\n",
    "        return 1\n",
    "    elif ans == 'N':\n",
    "        return 0\n",
    "    else:\n",
    "        return np.nan"
   ]
  },
  {
   "cell_type": "code",
   "execution_count": null,
   "id": "7fb8315b",
   "metadata": {},
   "outputs": [],
   "source": [
    "y_n_lst = ['WIC','pre_diabetes', 'gas_diabetes', 'pre_hypertension', 'gas_hypertension',\n",
    "       'hyper_eclampsia','prev_preterm','prev_C','Gonorrhea', 'Syphilis', \n",
    "           'Chlamydia', 'Hepatitis_B', 'Hepatitis_C']\n",
    "\n",
    "for var in y_n_lst:\n",
    "    df.loc[:,var] = df.loc[:,var].apply(letter_trans)"
   ]
  },
  {
   "cell_type": "code",
   "execution_count": null,
   "id": "fb70e209",
   "metadata": {},
   "outputs": [],
   "source": [
    "df.to_csv('./cleaned_data/national_cleaned.csv')"
   ]
  },
  {
   "cell_type": "code",
   "execution_count": null,
   "id": "d5b9678b",
   "metadata": {},
   "outputs": [],
   "source": []
  }
 ],
 "metadata": {
  "kernelspec": {
   "display_name": "Python 3 (ipykernel)",
   "language": "python",
   "name": "python3"
  },
  "language_info": {
   "codemirror_mode": {
    "name": "ipython",
    "version": 3
   },
   "file_extension": ".py",
   "mimetype": "text/x-python",
   "name": "python",
   "nbconvert_exporter": "python",
   "pygments_lexer": "ipython3",
   "version": "3.9.7"
  }
 },
 "nbformat": 4,
 "nbformat_minor": 5
}
